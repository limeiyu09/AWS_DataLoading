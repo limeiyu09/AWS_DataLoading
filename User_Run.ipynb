{
 "cells": [
  {
   "cell_type": "code",
   "execution_count": null,
   "id": "8fba6faa",
   "metadata": {},
   "outputs": [],
   "source": [
    "import os\n",
    "import pandas as pd\n",
    "import datetime\n",
    "import sys\n",
    "sys.path.append('C://xxxxx')\n",
    "\n",
    "import data_loading"
   ]
  },
  {
   "cell_type": "code",
   "execution_count": null,
   "id": "3284a1cb",
   "metadata": {},
   "outputs": [],
   "source": [
    "today = str(datetime.date.today())"
   ]
  },
  {
   "cell_type": "code",
   "execution_count": null,
   "id": "d04e1e6d",
   "metadata": {},
   "outputs": [],
   "source": [
    "conn = data_loading.data_loading()\n",
    "conn.get_export_dates_available(report = \"xxx\") # insert bucket name"
   ]
  },
  {
   "cell_type": "code",
   "execution_count": null,
   "id": "429c7176",
   "metadata": {},
   "outputs": [],
   "source": [
    "df = conn.load_date_exports(\"2023-05-20\", report = \"xxx\") # insert bucket name"
   ]
  },
  {
   "cell_type": "code",
   "execution_count": null,
   "id": "795d4a3c",
   "metadata": {},
   "outputs": [],
   "source": []
  },
  {
   "cell_type": "code",
   "execution_count": null,
   "id": "1a456df1",
   "metadata": {},
   "outputs": [],
   "source": []
  }
 ],
 "metadata": {
  "kernelspec": {
   "display_name": "Python 3",
   "language": "python",
   "name": "python3"
  },
  "language_info": {
   "codemirror_mode": {
    "name": "ipython",
    "version": 3
   },
   "file_extension": ".py",
   "mimetype": "text/x-python",
   "name": "python",
   "nbconvert_exporter": "python",
   "pygments_lexer": "ipython3",
   "version": "3.7.1"
  }
 },
 "nbformat": 4,
 "nbformat_minor": 5
}
